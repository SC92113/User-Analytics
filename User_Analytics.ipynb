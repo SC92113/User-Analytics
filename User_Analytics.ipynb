{
 "cells": [
  {
   "cell_type": "markdown",
   "metadata": {},
   "source": [
    "# User Analytics: Data Finding Report on Enernet Usage (2022)"
   ]
  },
  {
   "cell_type": "markdown",
   "metadata": {},
   "source": [
    "## Executive Summary\n",
    "\n",
    "- This report provides a comprehensive analysis of the user segments, preferences, and needs related to the usage of our product, Enernet. As a product manager, by leveraging data from user population spreadsheets and qualitative and quantitative user feedback, I aim to improve Enernet to better serve our users. The analysis reveals four primary user segments, with the \"Environmental, Safety & Sustainability\" segment being the most significant. The report highlights key user pain points, preferred features, and useful data types, offering insights to guide product enhancements."
   ]
  },
  {
   "cell_type": "markdown",
   "metadata": {},
   "source": [
    "## Introduction\n",
    "\n",
    "- Enernet is an important platform used by construction companies to manage and monitor their device operations. Understanding how different user segments interact with Enernet, their problems, and their preferences is essential for product improvement. This report analyzes user data and feedback to identify user segments, assess their needs, and determine the most valued features and data types. Sales teams and I met over 40 users and collected their feedback through user interviews. In this scope, I collected, analyzed and shared insights to the primary stakeholders in the company so that we could define the roadmap for next year. "
   ]
  },
  {
   "cell_type": "markdown",
   "metadata": {},
   "source": [
    "## Objective\n",
    "\n",
    "- To identify the existing user segments of Enernet.\n",
    "\n",
    "- To determine the largest user segment.\n",
    "\n",
    "- To uncover user problems and needs.\n",
    "\n",
    "- To identify the most popular features and useful data types among users."
   ]
  },
  {
   "cell_type": "markdown",
   "metadata": {},
   "source": [
    "## Methodology"
   ]
  },
  {
   "cell_type": "markdown",
   "metadata": {},
   "source": [
    "### Data Collection\n",
    "\n",
    "Data was sourced from two spreadsheets.\n",
    "\n",
    "- User Data and User Population\n",
    "\n",
    "    - This spreadsheet provided quantitative data on user demographics and segmentation.\n",
    "    \n",
    "- User Feedback\n",
    "\n",
    "    - This spreadsheet included qualitative and quantitative feedback on product usage, preferred features, access frequency, and user requests."
   ]
  },
  {
   "cell_type": "markdown",
   "metadata": {},
   "source": [
    "### Data Processing\n",
    "\n",
    "- Cleaning and Transformation\n",
    "\n",
    "    - Data was cleaned and transformed using spreadsheet functions and the Pandas library in Python.\n",
    "\n",
    "- Visualization\n",
    "\n",
    "    - Data was visualized in a dashboard using Looker Studio to generate insights."
   ]
  },
  {
   "cell_type": "markdown",
   "metadata": {},
   "source": [
    "##### Some steps are provided below to give a statistical summary before visualization."
   ]
  },
  {
   "cell_type": "code",
   "execution_count": 8,
   "metadata": {},
   "outputs": [
    {
     "name": "stdout",
     "output_type": "stream",
     "text": [
      "Requirement already satisfied: pandas in /usr/local/lib/python3.7/site-packages (1.3.5)\n",
      "Requirement already satisfied: pytz>=2017.3 in /usr/local/lib/python3.7/site-packages (from pandas) (2024.1)\n",
      "Requirement already satisfied: python-dateutil>=2.7.3 in /Users/sophia/Library/Python/3.7/lib/python/site-packages (from pandas) (2.8.2)\n",
      "Requirement already satisfied: numpy>=1.17.3; platform_machine != \"aarch64\" and platform_machine != \"arm64\" and python_version < \"3.10\" in /usr/local/lib/python3.7/site-packages (from pandas) (1.21.6)\n",
      "Requirement already satisfied: six>=1.5 in /Users/sophia/Library/Python/3.7/lib/python/site-packages (from python-dateutil>=2.7.3->pandas) (1.16.0)\n",
      "Note: you may need to restart the kernel to use updated packages.\n"
     ]
    }
   ],
   "source": [
    "pip install pandas"
   ]
  },
  {
   "cell_type": "code",
   "execution_count": 10,
   "metadata": {},
   "outputs": [],
   "source": [
    "# Step 1: Import library\n",
    "import pandas as pd"
   ]
  },
  {
   "cell_type": "code",
   "execution_count": 12,
   "metadata": {},
   "outputs": [],
   "source": [
    "# Step 2: Define file paths for two datasets\n",
    "quantitative_csv = \"User_analytics_findings_Quantitative_feedback.csv\"\n",
    "qualitative_csv = \"User_analytics_findings_Qualitative_feedback.csv\""
   ]
  },
  {
   "cell_type": "code",
   "execution_count": 14,
   "metadata": {},
   "outputs": [],
   "source": [
    "# Step 3: Read CSV files into dataframes\n",
    "quantitative_df = pd.read_csv(quantitative_csv)\n",
    "qualitative_df = pd.read_csv(qualitative_csv)"
   ]
  },
  {
   "cell_type": "code",
   "execution_count": 15,
   "metadata": {},
   "outputs": [],
   "source": [
    "# Step 4: Remove any duplicate rows from both dataframes\n",
    "quantitative_df = quantitative_df.drop_duplicates()\n",
    "qualitative_df = qualitative_df.drop_duplicates()"
   ]
  },
  {
   "cell_type": "code",
   "execution_count": 16,
   "metadata": {},
   "outputs": [],
   "source": [
    "# Step 5: Remove any rows with missing values from both dataframes\n",
    "quantitative_df = quantitative_df.dropna()\n",
    "qualitative_df = qualitative_df.dropna()"
   ]
  },
  {
   "cell_type": "code",
   "execution_count": 29,
   "metadata": {},
   "outputs": [
    {
     "name": "stdout",
     "output_type": "stream",
     "text": [
      "Quantitative Feedback Statistical Summary:\n",
      "       User_name Org_name In_house_product** User_level*  \\\n",
      "count         43       43                 43          43   \n",
      "unique        41       23                  2           3   \n",
      "top         Mike   Gammon                 No     Manager   \n",
      "freq           2        9                 30          17   \n",
      "\n",
      "                                     User_type        Log_frequency  \\\n",
      "count                                       43                   43   \n",
      "unique                                       4                    5   \n",
      "top     Environmental, Safety & Sustainability  1-2 times per month   \n",
      "freq                                        21                   18   \n",
      "\n",
      "       Log_medium_pc Log_medium_mobile Log_medium_tablet User_location  ...  \\\n",
      "count             43                43                43            43  ...   \n",
      "unique             3                 3                 2             3  ...   \n",
      "top           Always             Never             Never   Site office  ...   \n",
      "freq              25                27                40            20  ...   \n",
      "\n",
      "       Most_useful_feature Complex_feature Useful_data_inputc  \\\n",
      "count                   43              43                 43   \n",
      "unique                   6               3                  2   \n",
      "top         Device Monitor            Null               Null   \n",
      "freq                    15              38                 22   \n",
      "\n",
      "       Useful_data_outputc Useful_data_soc Useful_data_temp Useful_data_load  \\\n",
      "count                   43              43               43               43   \n",
      "unique                   2               2                2                2   \n",
      "top                      1            Null             Null             Null   \n",
      "freq                    24              26               35               34   \n",
      "\n",
      "       Useful_data_energy Useful_data_carbon Useful_data_alarm  \n",
      "count                  43                 43                43  \n",
      "unique                  2                  2                 2  \n",
      "top                     1               Null              Null  \n",
      "freq                   24                 23                36  \n",
      "\n",
      "[4 rows x 26 columns]\n"
     ]
    }
   ],
   "source": [
    "# Step 6: Show statistical summary of Quantitative feedback table\n",
    "## Remark: Qualitative feedback is unstructured and not shown here\n",
    "print(\"Quantitative Feedback Statistical Summary:\")\n",
    "print(quantitative_df.describe(include='all'))"
   ]
  },
  {
   "cell_type": "code",
   "execution_count": 27,
   "metadata": {},
   "outputs": [
    {
     "name": "stdout",
     "output_type": "stream",
     "text": [
      "First 5 rows of the cleaned Quantitative Feedback data:\n",
      "  User_name        Org_name In_house_product** User_level*  \\\n",
      "0     Toby       Aggressive                 No     Manager   \n",
      "1       Tim           Aegis                 No     Manager   \n",
      "2    Chris   China Overseas                Yes     Manager   \n",
      "3   Olivier          Gammon                Yes     Manager   \n",
      "4   Vincent          Gammon                 No    Engineer   \n",
      "\n",
      "                                User_type        Log_frequency Log_medium_pc  \\\n",
      "0  Environmental, Safety & Sustainability   1-2 times per week         Often   \n",
      "1                       Plant & Logistics            Every day        Always   \n",
      "2                                   Other         Almost never         Never   \n",
      "3                                   Other         Almost never         Never   \n",
      "4                       Plant & Logistics  1-2 times per month         Often   \n",
      "\n",
      "  Log_medium_mobile Log_medium_tablet User_location  ... Most_useful_feature  \\\n",
      "0             Often             Never   Back office  ...              Report   \n",
      "1             Never             Never   Back office  ...       Fleet Monitor   \n",
      "2             Never             Never   Back office  ...                Null   \n",
      "3             Never             Never   Back office  ...             Setting   \n",
      "4             Never             Often   Site office  ...      Device Monitor   \n",
      "\n",
      "  Complex_feature Useful_data_inputc Useful_data_outputc Useful_data_soc  \\\n",
      "0            Null                  1                   1            Null   \n",
      "1            Null                  1                   1               1   \n",
      "2            Null                  1                   1            Null   \n",
      "3            Null                  1                   1               1   \n",
      "4            Null                  1                   1               1   \n",
      "\n",
      "  Useful_data_temp Useful_data_load Useful_data_energy Useful_data_carbon  \\\n",
      "0             Null             Null                  1                  1   \n",
      "1                1                1               Null               Null   \n",
      "2             Null             Null               Null                  1   \n",
      "3                1                1               Null               Null   \n",
      "4             Null                1               Null               Null   \n",
      "\n",
      "  Useful_data_alarm  \n",
      "0              Null  \n",
      "1                 1  \n",
      "2              Null  \n",
      "3              Null  \n",
      "4                 1  \n",
      "\n",
      "[5 rows x 26 columns]\n"
     ]
    }
   ],
   "source": [
    "# Step 7: Show first 5 rows of the cleaned data in Quantitative feedback table\n",
    "print(\"First 5 rows of the cleaned Quantitative Feedback data:\")\n",
    "print(quantitative_df.head())"
   ]
  },
  {
   "cell_type": "markdown",
   "metadata": {},
   "source": [
    "### Analysis\n",
    "\n",
    "- Segmentation\n",
    "\n",
    "    - Users were segmented based on their company and role.\n",
    "\n",
    "- Feedback Analysis\n",
    "\n",
    "    - Both quantitative and qualitative feedback was analyzed to identify common themes and preferences."
   ]
  },
  {
   "cell_type": "markdown",
   "metadata": {},
   "source": [
    "## Results and Insights"
   ]
  },
  {
   "cell_type": "markdown",
   "metadata": {},
   "source": [
    "### Dashboard\n",
    "\n",
    "<iframe width=\"1000\" height=\"800\" src=\"https://lookerstudio.google.com/embed/reporting/5885ee14-cbb2-4614-ab7e-4a8cd1a77144/page/p_gojl9tdwzc\" frameborder=\"0\" style=\"border:0\" allowfullscreen sandbox=\"allow-storage-access-by-user-activation allow-scripts allow-same-origin allow-popups allow-popups-to-escape-sandbox\"></iframe> "
   ]
  },
  {
   "cell_type": "markdown",
   "metadata": {},
   "source": [
    "### User Segments\n",
    "\n",
    "The analysis identified four primary user segments.\n",
    "\n",
    "- Building & Project: 22 users\n",
    "\n",
    "- Plant & Logistics: 48 users\n",
    "\n",
    "- Environmental, Safety & Sustainability: 54 users\n",
    "\n",
    "- Other: 69 users\n",
    "\n",
    "The \"Environmental, Safety & Sustainability\" segment is the largest, making up a significant portion of the user base."
   ]
  },
  {
   "cell_type": "markdown",
   "metadata": {},
   "source": [
    "### User Problems and Needs\n",
    "\n",
    "Key issues identified include\n",
    "\n",
    "- Need for a user-friendly mobile app\n",
    "\n",
    "- Enhanced field support for alarms\n",
    "\n",
    "- Detailed energy data breakdown\n",
    "\n",
    "- Availability of a Chinese version"
   ]
  },
  {
   "cell_type": "markdown",
   "metadata": {},
   "source": [
    "### Favorite Features and Useful Data\n",
    "\n",
    "- Most Useful Features\n",
    "\n",
    "    - Device Monitor\n",
    "\n",
    "    - Report\n",
    "\n",
    "    - Fleet Monitor\n",
    "\n",
    "- Complex Features\n",
    "\n",
    "    - Event log/ Issue log\n",
    "\n",
    "    - Setting\n",
    "\n",
    "- Useful Data Types\n",
    "\n",
    "    - Energy\n",
    "\n",
    "    - Input Current\n",
    "\n",
    "    - State of Charge (SOC)\n",
    "\n",
    "    - Maximum Temperature\n",
    "\n",
    "    - Output Current\n",
    "\n",
    "    - Carbon & Diesel Saving\n",
    "\n",
    "    - Load\n",
    "    \n",
    "    - Alarm"
   ]
  },
  {
   "cell_type": "markdown",
   "metadata": {},
   "source": [
    "### Access Medium and Frequency\n",
    "\n",
    "- Access Medium\n",
    "\n",
    "    - Users primarily access Enernet via Desktop and Mobile.\n",
    "\n",
    "- Access Frequency\n",
    "\n",
    "    - Usage varies from daily to almost never, depending on the user segment."
   ]
  },
  {
   "cell_type": "markdown",
   "metadata": {},
   "source": [
    "## Discussion"
   ]
  },
  {
   "cell_type": "markdown",
   "metadata": {},
   "source": [
    "### Sample Size\n",
    "\n",
    "- With a total of 43 users interviewed, the sample size may be reasonable for drawing meaningful insights."
   ]
  },
  {
   "cell_type": "markdown",
   "metadata": {},
   "source": [
    "### Overrepresentation/ Underrepresentation issue\n",
    "\n",
    "- The \"Environmental, Safety & Sustainability\" segment is slightly overrepresented. However, given its importance, this overrepresentation may be justified.\n",
    "\n",
    "- Other segments are adequately represented, providing a balanced view of user needs and preferences."
   ]
  },
  {
   "cell_type": "markdown",
   "metadata": {},
   "source": [
    "## Conclusion\n",
    "\n",
    "- The analysis reveals critical insights into the user segments, preferences, and challenges associated with Enernet. The \"Environmental, Safety & Sustainability\" segment is the largest and most significant user group. Key areas for product improvement include developing a user-friendly mobile app, enhancing alarm support, and providing detailed energy data breakdowns. The findings from this report will guide future product developments to better meet user needs and enhance overall user satisfaction."
   ]
  }
 ],
 "metadata": {
  "kernelspec": {
   "display_name": "Python 3",
   "language": "python",
   "name": "python3"
  },
  "language_info": {
   "codemirror_mode": {
    "name": "ipython",
    "version": 3
   },
   "file_extension": ".py",
   "mimetype": "text/x-python",
   "name": "python",
   "nbconvert_exporter": "python",
   "pygments_lexer": "ipython3",
   "version": "3.7.3"
  }
 },
 "nbformat": 4,
 "nbformat_minor": 2
}
